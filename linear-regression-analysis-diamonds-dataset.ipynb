{
 "cells": [
  {
   "cell_type": "markdown",
   "id": "ce3eb822",
   "metadata": {
    "papermill": {
     "duration": 0.005797,
     "end_time": "2024-06-27T17:05:48.564175",
     "exception": false,
     "start_time": "2024-06-27T17:05:48.558378",
     "status": "completed"
    },
    "tags": []
   },
   "source": [
    "# **Diamonds: Linear Regression Analysis**"
   ]
  },
  {
   "cell_type": "markdown",
   "id": "c7785410",
   "metadata": {
    "papermill": {
     "duration": 0.005036,
     "end_time": "2024-06-27T17:05:48.574657",
     "exception": false,
     "start_time": "2024-06-27T17:05:48.569621",
     "status": "completed"
    },
    "tags": []
   },
   "source": [
    "## Background & Goal of the Project \n",
    "We will be working with the Diamonds Dataset. This dataset contains information about several thousand diamonds sold in the United States. You can find more information about this dataset, including a description of its columns [here](https://www.kaggle.com/datasets/shivam2503/diamonds).\n",
    "\n",
    "Our goal is to create and compare two linear regression models to estimate the label **ln_price**. The first model will use **ln_carat** as the only feature. The second will use **ln_carat**, **cut**, **color**, and **clarity** as features. To use the categorical variables in a model, we will need to encode them using one-hot encoding."
   ]
  },
  {
   "cell_type": "markdown",
   "id": "2987dbf3",
   "metadata": {
    "papermill": {
     "duration": 0.005022,
     "end_time": "2024-06-27T17:05:48.585122",
     "exception": false,
     "start_time": "2024-06-27T17:05:48.580100",
     "status": "completed"
    },
    "tags": []
   },
   "source": [
    "## Import Necessary Libraries "
   ]
  },
  {
   "cell_type": "code",
   "execution_count": 1,
   "id": "66cdfafd",
   "metadata": {
    "execution": {
     "iopub.execute_input": "2024-06-27T17:05:48.597538Z",
     "iopub.status.busy": "2024-06-27T17:05:48.597130Z",
     "iopub.status.idle": "2024-06-27T17:05:51.152122Z",
     "shell.execute_reply": "2024-06-27T17:05:51.150734Z"
    },
    "papermill": {
     "duration": 2.564148,
     "end_time": "2024-06-27T17:05:51.154627",
     "exception": false,
     "start_time": "2024-06-27T17:05:48.590479",
     "status": "completed"
    },
    "tags": []
   },
   "outputs": [],
   "source": [
    "# Import necessary packages\n",
    "import numpy as np\n",
    "import pandas as pd\n",
    "import matplotlib.pyplot as plt\n",
    "from sklearn.model_selection import train_test_split\n",
    "from sklearn.preprocessing import OneHotEncoder\n",
    "from sklearn.linear_model import LinearRegression\n",
    "from sklearn.linear_model import LogisticRegression\n",
    "from sklearn.tree import DecisionTreeClassifier\n",
    "from sklearn.ensemble import RandomForestClassifier\n",
    "from sklearn.metrics import classification_report, confusion_matrix"
   ]
  },
  {
   "cell_type": "markdown",
   "id": "63f29836",
   "metadata": {
    "papermill": {
     "duration": 0.005083,
     "end_time": "2024-06-27T17:05:51.165286",
     "exception": false,
     "start_time": "2024-06-27T17:05:51.160203",
     "status": "completed"
    },
    "tags": []
   },
   "source": [
    "## Loadind the Data & Preliminary Analysis "
   ]
  },
  {
   "cell_type": "code",
   "execution_count": 2,
   "id": "77e214ba",
   "metadata": {
    "execution": {
     "iopub.execute_input": "2024-06-27T17:05:51.178096Z",
     "iopub.status.busy": "2024-06-27T17:05:51.177548Z",
     "iopub.status.idle": "2024-06-27T17:05:51.316083Z",
     "shell.execute_reply": "2024-06-27T17:05:51.314984Z"
    },
    "papermill": {
     "duration": 0.148162,
     "end_time": "2024-06-27T17:05:51.318951",
     "exception": false,
     "start_time": "2024-06-27T17:05:51.170789",
     "status": "completed"
    },
    "tags": []
   },
   "outputs": [],
   "source": [
    "# Load dataset to DataFrame\n",
    "diamonds = pd.read_csv('/kaggle/input/diamonds/diamonds.csv', delimiter=',')"
   ]
  },
  {
   "cell_type": "code",
   "execution_count": 3,
   "id": "9b55b62b",
   "metadata": {
    "execution": {
     "iopub.execute_input": "2024-06-27T17:05:51.332015Z",
     "iopub.status.busy": "2024-06-27T17:05:51.331581Z",
     "iopub.status.idle": "2024-06-27T17:05:51.363952Z",
     "shell.execute_reply": "2024-06-27T17:05:51.362390Z"
    },
    "papermill": {
     "duration": 0.042371,
     "end_time": "2024-06-27T17:05:51.366945",
     "exception": false,
     "start_time": "2024-06-27T17:05:51.324574",
     "status": "completed"
    },
    "tags": []
   },
   "outputs": [
    {
     "data": {
      "text/html": [
       "<div>\n",
       "<style scoped>\n",
       "    .dataframe tbody tr th:only-of-type {\n",
       "        vertical-align: middle;\n",
       "    }\n",
       "\n",
       "    .dataframe tbody tr th {\n",
       "        vertical-align: top;\n",
       "    }\n",
       "\n",
       "    .dataframe thead th {\n",
       "        text-align: right;\n",
       "    }\n",
       "</style>\n",
       "<table border=\"1\" class=\"dataframe\">\n",
       "  <thead>\n",
       "    <tr style=\"text-align: right;\">\n",
       "      <th></th>\n",
       "      <th>Unnamed: 0</th>\n",
       "      <th>carat</th>\n",
       "      <th>cut</th>\n",
       "      <th>color</th>\n",
       "      <th>clarity</th>\n",
       "      <th>depth</th>\n",
       "      <th>table</th>\n",
       "      <th>price</th>\n",
       "      <th>x</th>\n",
       "      <th>y</th>\n",
       "      <th>z</th>\n",
       "    </tr>\n",
       "  </thead>\n",
       "  <tbody>\n",
       "    <tr>\n",
       "      <th>0</th>\n",
       "      <td>1</td>\n",
       "      <td>0.23</td>\n",
       "      <td>Ideal</td>\n",
       "      <td>E</td>\n",
       "      <td>SI2</td>\n",
       "      <td>61.5</td>\n",
       "      <td>55.0</td>\n",
       "      <td>326</td>\n",
       "      <td>3.95</td>\n",
       "      <td>3.98</td>\n",
       "      <td>2.43</td>\n",
       "    </tr>\n",
       "    <tr>\n",
       "      <th>1</th>\n",
       "      <td>2</td>\n",
       "      <td>0.21</td>\n",
       "      <td>Premium</td>\n",
       "      <td>E</td>\n",
       "      <td>SI1</td>\n",
       "      <td>59.8</td>\n",
       "      <td>61.0</td>\n",
       "      <td>326</td>\n",
       "      <td>3.89</td>\n",
       "      <td>3.84</td>\n",
       "      <td>2.31</td>\n",
       "    </tr>\n",
       "    <tr>\n",
       "      <th>2</th>\n",
       "      <td>3</td>\n",
       "      <td>0.23</td>\n",
       "      <td>Good</td>\n",
       "      <td>E</td>\n",
       "      <td>VS1</td>\n",
       "      <td>56.9</td>\n",
       "      <td>65.0</td>\n",
       "      <td>327</td>\n",
       "      <td>4.05</td>\n",
       "      <td>4.07</td>\n",
       "      <td>2.31</td>\n",
       "    </tr>\n",
       "    <tr>\n",
       "      <th>3</th>\n",
       "      <td>4</td>\n",
       "      <td>0.29</td>\n",
       "      <td>Premium</td>\n",
       "      <td>I</td>\n",
       "      <td>VS2</td>\n",
       "      <td>62.4</td>\n",
       "      <td>58.0</td>\n",
       "      <td>334</td>\n",
       "      <td>4.20</td>\n",
       "      <td>4.23</td>\n",
       "      <td>2.63</td>\n",
       "    </tr>\n",
       "    <tr>\n",
       "      <th>4</th>\n",
       "      <td>5</td>\n",
       "      <td>0.31</td>\n",
       "      <td>Good</td>\n",
       "      <td>J</td>\n",
       "      <td>SI2</td>\n",
       "      <td>63.3</td>\n",
       "      <td>58.0</td>\n",
       "      <td>335</td>\n",
       "      <td>4.34</td>\n",
       "      <td>4.35</td>\n",
       "      <td>2.75</td>\n",
       "    </tr>\n",
       "  </tbody>\n",
       "</table>\n",
       "</div>"
      ],
      "text/plain": [
       "   Unnamed: 0  carat      cut color clarity  depth  table  price     x     y  \\\n",
       "0           1   0.23    Ideal     E     SI2   61.5   55.0    326  3.95  3.98   \n",
       "1           2   0.21  Premium     E     SI1   59.8   61.0    326  3.89  3.84   \n",
       "2           3   0.23     Good     E     VS1   56.9   65.0    327  4.05  4.07   \n",
       "3           4   0.29  Premium     I     VS2   62.4   58.0    334  4.20  4.23   \n",
       "4           5   0.31     Good     J     SI2   63.3   58.0    335  4.34  4.35   \n",
       "\n",
       "      z  \n",
       "0  2.43  \n",
       "1  2.31  \n",
       "2  2.31  \n",
       "3  2.63  \n",
       "4  2.75  "
      ]
     },
     "execution_count": 3,
     "metadata": {},
     "output_type": "execute_result"
    }
   ],
   "source": [
    "# Display the first five rows of the dataset\n",
    "diamonds.head()"
   ]
  },
  {
   "cell_type": "code",
   "execution_count": 4,
   "id": "89a5c389",
   "metadata": {
    "execution": {
     "iopub.execute_input": "2024-06-27T17:05:51.382406Z",
     "iopub.status.busy": "2024-06-27T17:05:51.381977Z",
     "iopub.status.idle": "2024-06-27T17:05:51.390283Z",
     "shell.execute_reply": "2024-06-27T17:05:51.388765Z"
    },
    "papermill": {
     "duration": 0.020797,
     "end_time": "2024-06-27T17:05:51.393741",
     "exception": false,
     "start_time": "2024-06-27T17:05:51.372944",
     "status": "completed"
    },
    "tags": []
   },
   "outputs": [
    {
     "data": {
      "text/plain": [
       "(53940, 11)"
      ]
     },
     "execution_count": 4,
     "metadata": {},
     "output_type": "execute_result"
    }
   ],
   "source": [
    "diamonds.shape"
   ]
  },
  {
   "cell_type": "code",
   "execution_count": 5,
   "id": "7ff609dd",
   "metadata": {
    "execution": {
     "iopub.execute_input": "2024-06-27T17:05:51.409057Z",
     "iopub.status.busy": "2024-06-27T17:05:51.408570Z",
     "iopub.status.idle": "2024-06-27T17:05:51.455692Z",
     "shell.execute_reply": "2024-06-27T17:05:51.454148Z"
    },
    "papermill": {
     "duration": 0.058399,
     "end_time": "2024-06-27T17:05:51.458835",
     "exception": false,
     "start_time": "2024-06-27T17:05:51.400436",
     "status": "completed"
    },
    "tags": []
   },
   "outputs": [
    {
     "name": "stdout",
     "output_type": "stream",
     "text": [
      "<class 'pandas.core.frame.DataFrame'>\n",
      "RangeIndex: 53940 entries, 0 to 53939\n",
      "Data columns (total 11 columns):\n",
      " #   Column      Non-Null Count  Dtype  \n",
      "---  ------      --------------  -----  \n",
      " 0   Unnamed: 0  53940 non-null  int64  \n",
      " 1   carat       53940 non-null  float64\n",
      " 2   cut         53940 non-null  object \n",
      " 3   color       53940 non-null  object \n",
      " 4   clarity     53940 non-null  object \n",
      " 5   depth       53940 non-null  float64\n",
      " 6   table       53940 non-null  float64\n",
      " 7   price       53940 non-null  int64  \n",
      " 8   x           53940 non-null  float64\n",
      " 9   y           53940 non-null  float64\n",
      " 10  z           53940 non-null  float64\n",
      "dtypes: float64(6), int64(2), object(3)\n",
      "memory usage: 4.5+ MB\n"
     ]
    }
   ],
   "source": [
    "# View the informations about the dataset\n",
    "diamonds.info()"
   ]
  },
  {
   "cell_type": "code",
   "execution_count": 6,
   "id": "5df145b4",
   "metadata": {
    "execution": {
     "iopub.execute_input": "2024-06-27T17:05:51.473392Z",
     "iopub.status.busy": "2024-06-27T17:05:51.472965Z",
     "iopub.status.idle": "2024-06-27T17:05:51.526379Z",
     "shell.execute_reply": "2024-06-27T17:05:51.525063Z"
    },
    "papermill": {
     "duration": 0.063749,
     "end_time": "2024-06-27T17:05:51.529090",
     "exception": false,
     "start_time": "2024-06-27T17:05:51.465341",
     "status": "completed"
    },
    "tags": []
   },
   "outputs": [
    {
     "data": {
      "text/html": [
       "<div>\n",
       "<style scoped>\n",
       "    .dataframe tbody tr th:only-of-type {\n",
       "        vertical-align: middle;\n",
       "    }\n",
       "\n",
       "    .dataframe tbody tr th {\n",
       "        vertical-align: top;\n",
       "    }\n",
       "\n",
       "    .dataframe thead th {\n",
       "        text-align: right;\n",
       "    }\n",
       "</style>\n",
       "<table border=\"1\" class=\"dataframe\">\n",
       "  <thead>\n",
       "    <tr style=\"text-align: right;\">\n",
       "      <th></th>\n",
       "      <th>Unnamed: 0</th>\n",
       "      <th>carat</th>\n",
       "      <th>depth</th>\n",
       "      <th>table</th>\n",
       "      <th>price</th>\n",
       "      <th>x</th>\n",
       "      <th>y</th>\n",
       "      <th>z</th>\n",
       "    </tr>\n",
       "  </thead>\n",
       "  <tbody>\n",
       "    <tr>\n",
       "      <th>count</th>\n",
       "      <td>53940.000000</td>\n",
       "      <td>53940.000000</td>\n",
       "      <td>53940.000000</td>\n",
       "      <td>53940.000000</td>\n",
       "      <td>53940.000000</td>\n",
       "      <td>53940.000000</td>\n",
       "      <td>53940.000000</td>\n",
       "      <td>53940.000000</td>\n",
       "    </tr>\n",
       "    <tr>\n",
       "      <th>mean</th>\n",
       "      <td>26970.500000</td>\n",
       "      <td>0.797940</td>\n",
       "      <td>61.749405</td>\n",
       "      <td>57.457184</td>\n",
       "      <td>3932.799722</td>\n",
       "      <td>5.731157</td>\n",
       "      <td>5.734526</td>\n",
       "      <td>3.538734</td>\n",
       "    </tr>\n",
       "    <tr>\n",
       "      <th>std</th>\n",
       "      <td>15571.281097</td>\n",
       "      <td>0.474011</td>\n",
       "      <td>1.432621</td>\n",
       "      <td>2.234491</td>\n",
       "      <td>3989.439738</td>\n",
       "      <td>1.121761</td>\n",
       "      <td>1.142135</td>\n",
       "      <td>0.705699</td>\n",
       "    </tr>\n",
       "    <tr>\n",
       "      <th>min</th>\n",
       "      <td>1.000000</td>\n",
       "      <td>0.200000</td>\n",
       "      <td>43.000000</td>\n",
       "      <td>43.000000</td>\n",
       "      <td>326.000000</td>\n",
       "      <td>0.000000</td>\n",
       "      <td>0.000000</td>\n",
       "      <td>0.000000</td>\n",
       "    </tr>\n",
       "    <tr>\n",
       "      <th>25%</th>\n",
       "      <td>13485.750000</td>\n",
       "      <td>0.400000</td>\n",
       "      <td>61.000000</td>\n",
       "      <td>56.000000</td>\n",
       "      <td>950.000000</td>\n",
       "      <td>4.710000</td>\n",
       "      <td>4.720000</td>\n",
       "      <td>2.910000</td>\n",
       "    </tr>\n",
       "    <tr>\n",
       "      <th>50%</th>\n",
       "      <td>26970.500000</td>\n",
       "      <td>0.700000</td>\n",
       "      <td>61.800000</td>\n",
       "      <td>57.000000</td>\n",
       "      <td>2401.000000</td>\n",
       "      <td>5.700000</td>\n",
       "      <td>5.710000</td>\n",
       "      <td>3.530000</td>\n",
       "    </tr>\n",
       "    <tr>\n",
       "      <th>75%</th>\n",
       "      <td>40455.250000</td>\n",
       "      <td>1.040000</td>\n",
       "      <td>62.500000</td>\n",
       "      <td>59.000000</td>\n",
       "      <td>5324.250000</td>\n",
       "      <td>6.540000</td>\n",
       "      <td>6.540000</td>\n",
       "      <td>4.040000</td>\n",
       "    </tr>\n",
       "    <tr>\n",
       "      <th>max</th>\n",
       "      <td>53940.000000</td>\n",
       "      <td>5.010000</td>\n",
       "      <td>79.000000</td>\n",
       "      <td>95.000000</td>\n",
       "      <td>18823.000000</td>\n",
       "      <td>10.740000</td>\n",
       "      <td>58.900000</td>\n",
       "      <td>31.800000</td>\n",
       "    </tr>\n",
       "  </tbody>\n",
       "</table>\n",
       "</div>"
      ],
      "text/plain": [
       "         Unnamed: 0         carat         depth         table         price  \\\n",
       "count  53940.000000  53940.000000  53940.000000  53940.000000  53940.000000   \n",
       "mean   26970.500000      0.797940     61.749405     57.457184   3932.799722   \n",
       "std    15571.281097      0.474011      1.432621      2.234491   3989.439738   \n",
       "min        1.000000      0.200000     43.000000     43.000000    326.000000   \n",
       "25%    13485.750000      0.400000     61.000000     56.000000    950.000000   \n",
       "50%    26970.500000      0.700000     61.800000     57.000000   2401.000000   \n",
       "75%    40455.250000      1.040000     62.500000     59.000000   5324.250000   \n",
       "max    53940.000000      5.010000     79.000000     95.000000  18823.000000   \n",
       "\n",
       "                  x             y             z  \n",
       "count  53940.000000  53940.000000  53940.000000  \n",
       "mean       5.731157      5.734526      3.538734  \n",
       "std        1.121761      1.142135      0.705699  \n",
       "min        0.000000      0.000000      0.000000  \n",
       "25%        4.710000      4.720000      2.910000  \n",
       "50%        5.700000      5.710000      3.530000  \n",
       "75%        6.540000      6.540000      4.040000  \n",
       "max       10.740000     58.900000     31.800000  "
      ]
     },
     "execution_count": 6,
     "metadata": {},
     "output_type": "execute_result"
    }
   ],
   "source": [
    "diamonds.describe()"
   ]
  },
  {
   "cell_type": "markdown",
   "id": "32ab3351",
   "metadata": {
    "papermill": {
     "duration": 0.006008,
     "end_time": "2024-06-27T17:05:51.541466",
     "exception": false,
     "start_time": "2024-06-27T17:05:51.535458",
     "status": "completed"
    },
    "tags": []
   },
   "source": [
    "## Dataset Preprocessing"
   ]
  },
  {
   "cell_type": "code",
   "execution_count": 7,
   "id": "189ea77f",
   "metadata": {
    "execution": {
     "iopub.execute_input": "2024-06-27T17:05:51.556497Z",
     "iopub.status.busy": "2024-06-27T17:05:51.556114Z",
     "iopub.status.idle": "2024-06-27T17:05:51.568178Z",
     "shell.execute_reply": "2024-06-27T17:05:51.566694Z"
    },
    "papermill": {
     "duration": 0.023151,
     "end_time": "2024-06-27T17:05:51.571023",
     "exception": false,
     "start_time": "2024-06-27T17:05:51.547872",
     "status": "completed"
    },
    "tags": []
   },
   "outputs": [],
   "source": [
    "# Drop the unnamed column from the dataframe\n",
    "diamonds.drop(columns='Unnamed: 0', axis=1, inplace=True)\n"
   ]
  },
  {
   "cell_type": "code",
   "execution_count": 8,
   "id": "adab14a8",
   "metadata": {
    "execution": {
     "iopub.execute_input": "2024-06-27T17:05:51.585813Z",
     "iopub.status.busy": "2024-06-27T17:05:51.585365Z",
     "iopub.status.idle": "2024-06-27T17:05:51.608323Z",
     "shell.execute_reply": "2024-06-27T17:05:51.607084Z"
    },
    "papermill": {
     "duration": 0.033528,
     "end_time": "2024-06-27T17:05:51.611064",
     "exception": false,
     "start_time": "2024-06-27T17:05:51.577536",
     "status": "completed"
    },
    "tags": []
   },
   "outputs": [
    {
     "data": {
      "text/html": [
       "<div>\n",
       "<style scoped>\n",
       "    .dataframe tbody tr th:only-of-type {\n",
       "        vertical-align: middle;\n",
       "    }\n",
       "\n",
       "    .dataframe tbody tr th {\n",
       "        vertical-align: top;\n",
       "    }\n",
       "\n",
       "    .dataframe thead th {\n",
       "        text-align: right;\n",
       "    }\n",
       "</style>\n",
       "<table border=\"1\" class=\"dataframe\">\n",
       "  <thead>\n",
       "    <tr style=\"text-align: right;\">\n",
       "      <th></th>\n",
       "      <th>carat</th>\n",
       "      <th>cut</th>\n",
       "      <th>color</th>\n",
       "      <th>clarity</th>\n",
       "      <th>depth</th>\n",
       "      <th>table</th>\n",
       "      <th>price</th>\n",
       "      <th>x</th>\n",
       "      <th>y</th>\n",
       "      <th>z</th>\n",
       "      <th>ln_carat</th>\n",
       "      <th>ln_price</th>\n",
       "    </tr>\n",
       "  </thead>\n",
       "  <tbody>\n",
       "    <tr>\n",
       "      <th>0</th>\n",
       "      <td>0.23</td>\n",
       "      <td>Ideal</td>\n",
       "      <td>E</td>\n",
       "      <td>SI2</td>\n",
       "      <td>61.5</td>\n",
       "      <td>55.0</td>\n",
       "      <td>326</td>\n",
       "      <td>3.95</td>\n",
       "      <td>3.98</td>\n",
       "      <td>2.43</td>\n",
       "      <td>-1.469676</td>\n",
       "      <td>5.786897</td>\n",
       "    </tr>\n",
       "    <tr>\n",
       "      <th>1</th>\n",
       "      <td>0.21</td>\n",
       "      <td>Premium</td>\n",
       "      <td>E</td>\n",
       "      <td>SI1</td>\n",
       "      <td>59.8</td>\n",
       "      <td>61.0</td>\n",
       "      <td>326</td>\n",
       "      <td>3.89</td>\n",
       "      <td>3.84</td>\n",
       "      <td>2.31</td>\n",
       "      <td>-1.560648</td>\n",
       "      <td>5.786897</td>\n",
       "    </tr>\n",
       "    <tr>\n",
       "      <th>2</th>\n",
       "      <td>0.23</td>\n",
       "      <td>Good</td>\n",
       "      <td>E</td>\n",
       "      <td>VS1</td>\n",
       "      <td>56.9</td>\n",
       "      <td>65.0</td>\n",
       "      <td>327</td>\n",
       "      <td>4.05</td>\n",
       "      <td>4.07</td>\n",
       "      <td>2.31</td>\n",
       "      <td>-1.469676</td>\n",
       "      <td>5.789960</td>\n",
       "    </tr>\n",
       "    <tr>\n",
       "      <th>3</th>\n",
       "      <td>0.29</td>\n",
       "      <td>Premium</td>\n",
       "      <td>I</td>\n",
       "      <td>VS2</td>\n",
       "      <td>62.4</td>\n",
       "      <td>58.0</td>\n",
       "      <td>334</td>\n",
       "      <td>4.20</td>\n",
       "      <td>4.23</td>\n",
       "      <td>2.63</td>\n",
       "      <td>-1.237874</td>\n",
       "      <td>5.811141</td>\n",
       "    </tr>\n",
       "    <tr>\n",
       "      <th>4</th>\n",
       "      <td>0.31</td>\n",
       "      <td>Good</td>\n",
       "      <td>J</td>\n",
       "      <td>SI2</td>\n",
       "      <td>63.3</td>\n",
       "      <td>58.0</td>\n",
       "      <td>335</td>\n",
       "      <td>4.34</td>\n",
       "      <td>4.35</td>\n",
       "      <td>2.75</td>\n",
       "      <td>-1.171183</td>\n",
       "      <td>5.814131</td>\n",
       "    </tr>\n",
       "  </tbody>\n",
       "</table>\n",
       "</div>"
      ],
      "text/plain": [
       "   carat      cut color clarity  depth  table  price     x     y     z  \\\n",
       "0   0.23    Ideal     E     SI2   61.5   55.0    326  3.95  3.98  2.43   \n",
       "1   0.21  Premium     E     SI1   59.8   61.0    326  3.89  3.84  2.31   \n",
       "2   0.23     Good     E     VS1   56.9   65.0    327  4.05  4.07  2.31   \n",
       "3   0.29  Premium     I     VS2   62.4   58.0    334  4.20  4.23  2.63   \n",
       "4   0.31     Good     J     SI2   63.3   58.0    335  4.34  4.35  2.75   \n",
       "\n",
       "   ln_carat  ln_price  \n",
       "0 -1.469676  5.786897  \n",
       "1 -1.560648  5.786897  \n",
       "2 -1.469676  5.789960  \n",
       "3 -1.237874  5.811141  \n",
       "4 -1.171183  5.814131  "
      ]
     },
     "execution_count": 8,
     "metadata": {},
     "output_type": "execute_result"
    }
   ],
   "source": [
    "# Adding new columns ln_carat and ln_price to the diamonds dataset\n",
    "diamonds['ln_carat'] = np.log(diamonds['carat'])\n",
    "diamonds['ln_price'] = np.log(diamonds['price'])\n",
    "\n",
    "# Display the first five rows of the dataframe\n",
    "diamonds.head()"
   ]
  },
  {
   "cell_type": "code",
   "execution_count": 9,
   "id": "bb90b473",
   "metadata": {
    "execution": {
     "iopub.execute_input": "2024-06-27T17:05:51.626133Z",
     "iopub.status.busy": "2024-06-27T17:05:51.625696Z",
     "iopub.status.idle": "2024-06-27T17:05:51.635981Z",
     "shell.execute_reply": "2024-06-27T17:05:51.634745Z"
    },
    "papermill": {
     "duration": 0.020891,
     "end_time": "2024-06-27T17:05:51.638586",
     "exception": false,
     "start_time": "2024-06-27T17:05:51.617695",
     "status": "completed"
    },
    "tags": []
   },
   "outputs": [
    {
     "name": "stdout",
     "output_type": "stream",
     "text": [
      "Numerical Feature Array Shape:   (53940, 1)\n",
      "Categorical Feature Array Shape: (53940, 3)\n",
      "Label Array Shape:               (53940,)\n"
     ]
    }
   ],
   "source": [
    "# Prepare numerical and categorical features\n",
    "X_num = diamonds['ln_carat'].values.reshape(-1, 1)\n",
    "X_cat = diamonds[['cut', 'color', 'clarity']].values\n",
    "y = diamonds['ln_price'].values\n",
    "\n",
    "# Print the shapes of the arrays\n",
    "print(f'Numerical Feature Array Shape:   {X_num.shape}')\n",
    "print(f'Categorical Feature Array Shape: {X_cat.shape}')\n",
    "print(f'Label Array Shape:               {y.shape}')"
   ]
  },
  {
   "cell_type": "code",
   "execution_count": 10,
   "id": "cb7f637a",
   "metadata": {
    "execution": {
     "iopub.execute_input": "2024-06-27T17:05:51.654694Z",
     "iopub.status.busy": "2024-06-27T17:05:51.654234Z",
     "iopub.status.idle": "2024-06-27T17:05:51.719719Z",
     "shell.execute_reply": "2024-06-27T17:05:51.718149Z"
    },
    "papermill": {
     "duration": 0.076467,
     "end_time": "2024-06-27T17:05:51.722235",
     "exception": false,
     "start_time": "2024-06-27T17:05:51.645768",
     "status": "completed"
    },
    "tags": []
   },
   "outputs": [
    {
     "name": "stdout",
     "output_type": "stream",
     "text": [
      "Encoded Feature Array Shape: (53940, 20)\n"
     ]
    }
   ],
   "source": [
    "# Create a OneHotEncoder object\n",
    "encoder = OneHotEncoder(sparse_output=False)\n",
    "\n",
    "# Fit the encoder to the categorical features\n",
    "encoder.fit(X_cat)\n",
    "\n",
    "# Encode the categorical features\n",
    "X_enc = encoder.transform(X_cat)\n",
    "\n",
    "# Print the shape of the encoded features array\n",
    "print(f'Encoded Feature Array Shape: {X_enc.shape}')"
   ]
  },
  {
   "cell_type": "code",
   "execution_count": 11,
   "id": "7e86f3d2",
   "metadata": {
    "execution": {
     "iopub.execute_input": "2024-06-27T17:05:51.738355Z",
     "iopub.status.busy": "2024-06-27T17:05:51.737111Z",
     "iopub.status.idle": "2024-06-27T17:05:51.749630Z",
     "shell.execute_reply": "2024-06-27T17:05:51.747962Z"
    },
    "papermill": {
     "duration": 0.023101,
     "end_time": "2024-06-27T17:05:51.752144",
     "exception": false,
     "start_time": "2024-06-27T17:05:51.729043",
     "status": "completed"
    },
    "tags": []
   },
   "outputs": [
    {
     "name": "stdout",
     "output_type": "stream",
     "text": [
      "Feature Array Shape: (53940, 21)\n"
     ]
    }
   ],
   "source": [
    "# Combine numerical and encoded categorical features\n",
    "X = np.hstack((X_num, X_enc))\n",
    "\n",
    "# Print the shape of the combined feature array\n",
    "print(f'Feature Array Shape: {X.shape}')"
   ]
  },
  {
   "cell_type": "code",
   "execution_count": 12,
   "id": "123522eb",
   "metadata": {
    "execution": {
     "iopub.execute_input": "2024-06-27T17:05:51.768363Z",
     "iopub.status.busy": "2024-06-27T17:05:51.767422Z",
     "iopub.status.idle": "2024-06-27T17:05:51.789310Z",
     "shell.execute_reply": "2024-06-27T17:05:51.788068Z"
    },
    "papermill": {
     "duration": 0.032898,
     "end_time": "2024-06-27T17:05:51.791750",
     "exception": false,
     "start_time": "2024-06-27T17:05:51.758852",
     "status": "completed"
    },
    "tags": []
   },
   "outputs": [
    {
     "name": "stdout",
     "output_type": "stream",
     "text": [
      "Training Features Shape:   (43152, 21)\n",
      "Validation Features Shape: (5394, 21)\n",
      "Test Features Shape:       (5394, 21)\n"
     ]
    }
   ],
   "source": [
    "# Split the data into training and holdout sets using a 70/30 split\n",
    "X_train, X_hold, y_train, y_hold = train_test_split(X, y, test_size=0.20, random_state=1)\n",
    "\n",
    "# Split the holdout data into validation and test sets using a 50/50 split\n",
    "X_valid, X_test, y_valid, y_test = train_test_split(X_hold, y_hold, test_size=0.50, random_state=1)\n",
    "\n",
    "# Print the shapes of the training, validation, and test feature arrays\n",
    "print(f'Training Features Shape:   {X_train.shape}')\n",
    "print(f'Validation Features Shape: {X_valid.shape}')\n",
    "print(f'Test Features Shape:       {X_test.shape}')"
   ]
  },
  {
   "cell_type": "markdown",
   "id": "be0e75a9",
   "metadata": {
    "papermill": {
     "duration": 0.006444,
     "end_time": "2024-06-27T17:05:51.804973",
     "exception": false,
     "start_time": "2024-06-27T17:05:51.798529",
     "status": "completed"
    },
    "tags": []
   },
   "source": [
    "## Linear Regression Model with One Feature"
   ]
  },
  {
   "cell_type": "code",
   "execution_count": 13,
   "id": "c729af21",
   "metadata": {
    "execution": {
     "iopub.execute_input": "2024-06-27T17:05:51.820451Z",
     "iopub.status.busy": "2024-06-27T17:05:51.820012Z",
     "iopub.status.idle": "2024-06-27T17:05:51.845805Z",
     "shell.execute_reply": "2024-06-27T17:05:51.844403Z"
    },
    "papermill": {
     "duration": 0.035962,
     "end_time": "2024-06-27T17:05:51.848116",
     "exception": false,
     "start_time": "2024-06-27T17:05:51.812154",
     "status": "completed"
    },
    "tags": []
   },
   "outputs": [
    {
     "name": "stdout",
     "output_type": "stream",
     "text": [
      "Training r-Squared:   0.9330\n",
      "Validation r-Squared: 0.9348\n"
     ]
    }
   ],
   "source": [
    "# Create a linear regression model\n",
    "dia_mod_1 = LinearRegression()\n",
    "\n",
    "# Fit the model to the training data using only the first column of X1_train\n",
    "dia_mod_1.fit(X_train[:, 0].reshape(-1, 1), y_train)\n",
    "\n",
    "# Calculate r-squared values for training and validation sets\n",
    "train_r2 = dia_mod_1.score(X_train[:, 0].reshape(-1, 1), y_train)\n",
    "val_r2 = dia_mod_1.score(X_valid[:, 0].reshape(-1, 1), y_valid)\n",
    "\n",
    "# Print the results with formatted messages\n",
    "print(f\"Training r-Squared:   {train_r2:.4f}\")\n",
    "print(f\"Validation r-Squared: {val_r2:.4f}\")"
   ]
  },
  {
   "cell_type": "markdown",
   "id": "d238058e",
   "metadata": {
    "papermill": {
     "duration": 0.006255,
     "end_time": "2024-06-27T17:05:51.861266",
     "exception": false,
     "start_time": "2024-06-27T17:05:51.855011",
     "status": "completed"
    },
    "tags": []
   },
   "source": [
    "## Linear Regression with Several Features"
   ]
  },
  {
   "cell_type": "code",
   "execution_count": 14,
   "id": "a056d987",
   "metadata": {
    "execution": {
     "iopub.execute_input": "2024-06-27T17:05:51.876484Z",
     "iopub.status.busy": "2024-06-27T17:05:51.875559Z",
     "iopub.status.idle": "2024-06-27T17:05:51.956888Z",
     "shell.execute_reply": "2024-06-27T17:05:51.955869Z"
    },
    "papermill": {
     "duration": 0.092832,
     "end_time": "2024-06-27T17:05:51.960626",
     "exception": false,
     "start_time": "2024-06-27T17:05:51.867794",
     "status": "completed"
    },
    "tags": []
   },
   "outputs": [
    {
     "name": "stdout",
     "output_type": "stream",
     "text": [
      "Training r-Squared:   0.9825\n",
      "Validation r-Squared: 0.9834\n"
     ]
    }
   ],
   "source": [
    "# Create a linear regression model\n",
    "dia_mod_2 = LinearRegression()\n",
    "\n",
    "# Fit the model to the training data using all features in X1_train\n",
    "dia_mod_2.fit(X_train, y_train)\n",
    "\n",
    "# Calculate r-squared values for training and validation sets\n",
    "train2_r2 = dia_mod_2.score(X_train, y_train)\n",
    "val2_r2 = dia_mod_2.score(X_valid, y_valid)\n",
    "\n",
    "# Print the results with formatted messages\n",
    "print(f\"Training r-Squared:   {train2_r2:.4f}\")\n",
    "print(f\"Validation r-Squared: {val2_r2:.4f}\")"
   ]
  },
  {
   "cell_type": "markdown",
   "id": "dfa06a4a",
   "metadata": {
    "papermill": {
     "duration": 0.023936,
     "end_time": "2024-06-27T17:05:51.996999",
     "exception": false,
     "start_time": "2024-06-27T17:05:51.973063",
     "status": "completed"
    },
    "tags": []
   },
   "source": [
    "## Findings\n",
    "\n",
    "As you can see the r-Squared values increase by nearly 0.05 when we added in the categorical features. While the variable ln_carat alone explains a large proportion of the variance in the target variable ln_price, the three categorical features can be used to explain a bit ore of the variance."
   ]
  },
  {
   "cell_type": "markdown",
   "id": "40d353e8",
   "metadata": {
    "papermill": {
     "duration": 0.032635,
     "end_time": "2024-06-27T17:05:52.052040",
     "exception": false,
     "start_time": "2024-06-27T17:05:52.019405",
     "status": "completed"
    },
    "tags": []
   },
   "source": [
    "## Score the Model"
   ]
  },
  {
   "cell_type": "code",
   "execution_count": 15,
   "id": "301d9c57",
   "metadata": {
    "execution": {
     "iopub.execute_input": "2024-06-27T17:05:52.082028Z",
     "iopub.status.busy": "2024-06-27T17:05:52.080501Z",
     "iopub.status.idle": "2024-06-27T17:05:52.092318Z",
     "shell.execute_reply": "2024-06-27T17:05:52.090732Z"
    },
    "papermill": {
     "duration": 0.03127,
     "end_time": "2024-06-27T17:05:52.095633",
     "exception": false,
     "start_time": "2024-06-27T17:05:52.064363",
     "status": "completed"
    },
    "tags": []
   },
   "outputs": [
    {
     "name": "stdout",
     "output_type": "stream",
     "text": [
      "Testing r-Squared: 0.9825\n"
     ]
    }
   ],
   "source": [
    "# Score the model dia_mod_2 using the test set\n",
    "test_r2 = dia_mod_2.score(X_test, y_test)\n",
    "print(\"Testing r-Squared:\", f\"{test_r2:.4f}\")"
   ]
  }
 ],
 "metadata": {
  "kaggle": {
   "accelerator": "none",
   "dataSources": [
    {
     "datasetId": 1312,
     "sourceId": 2368,
     "sourceType": "datasetVersion"
    }
   ],
   "dockerImageVersionId": 30732,
   "isGpuEnabled": false,
   "isInternetEnabled": true,
   "language": "python",
   "sourceType": "notebook"
  },
  "kernelspec": {
   "display_name": "Python 3",
   "language": "python",
   "name": "python3"
  },
  "language_info": {
   "codemirror_mode": {
    "name": "ipython",
    "version": 3
   },
   "file_extension": ".py",
   "mimetype": "text/x-python",
   "name": "python",
   "nbconvert_exporter": "python",
   "pygments_lexer": "ipython3",
   "version": "3.10.13"
  },
  "papermill": {
   "default_parameters": {},
   "duration": 7.064135,
   "end_time": "2024-06-27T17:05:52.835544",
   "environment_variables": {},
   "exception": null,
   "input_path": "__notebook__.ipynb",
   "output_path": "__notebook__.ipynb",
   "parameters": {},
   "start_time": "2024-06-27T17:05:45.771409",
   "version": "2.5.0"
  }
 },
 "nbformat": 4,
 "nbformat_minor": 5
}
